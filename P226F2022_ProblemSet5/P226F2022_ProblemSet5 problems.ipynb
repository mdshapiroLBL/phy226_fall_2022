{
 "cells": [
  {
   "cell_type": "markdown",
   "id": "0",
   "metadata": {},
   "source": [
    " # Physics 226 Fall 2022 Problem Set 5 Due Friday Oct 30"
   ]
  },
  {
   "cell_type": "markdown",
   "id": "1",
   "metadata": {},
   "source": [
    "## Question 1: Fitting a Signal in the Presence of Background (25 points)"
   ]
  },
  {
   "cell_type": "markdown",
   "id": "2",
   "metadata": {},
   "source": [
    "### Learning objectives\n",
    "In this question you will:\n",
    "\n",
    "- Gain experience in performing $\\chi^2$ fits to histogrammed data; explore how the statistical significance of a signal depends on the number of signal events and the signal-to-background ratio\n"
   ]
  },
  {
   "cell_type": "markdown",
   "id": "3",
   "metadata": {},
   "source": [
    "### 1a. "
   ]
  },
  {
   "cell_type": "markdown",
   "id": "4",
   "metadata": {
    "flags": [
     "problems",
     "solutions"
    ]
   },
   "source": [
    "Physicists often fit for signals in the presence of background.  In such cases, the significance of the fitted signal depends not only on the number of signal events but also on the amount of background and our ability to statistically separate the two.  In this problem, we will explore fitting signal and background for a very simple case:  The signal is a Gaussian peak centered at $x=10$ with a width $\\sigma=1$ and the background is uniformly distributed between $x=0$ and $x=20$.  The code below generates fake data, allowing you to change both the number of events in the signal and the ratio of signal-to-background.  To make sure that our definition of background does not depend on the fit range, the code below defines the signal-to-background ratio as the ratio number of signal events to the number of background events in a $\\pm 2 \\sigma$ window around the signal peak.  Here is the code you will use to generate the fake data:"
   ]
  },
  {
   "cell_type": "code",
   "execution_count": 2,
   "id": "5",
   "metadata": {
    "flags": [
     "problems",
     "solutions"
    ]
   },
   "outputs": [],
   "source": [
    "# Write import math\n",
    "import numpy as np\n",
    "import random\n",
    "import matplotlib.pyplot as plt\n",
    "from scipy.optimize import minimize\n",
    "\n",
    "def makeData( SignalToBackground, nSigEvents, seed=12345):\n",
    "    \"\"\"Generates a dataset consisting of nEvents some of which are signal (a Gaussian with a width of 1 centered\n",
    "    at x=5) and the rest of which is background\n",
    "    Definition of SignalToBackground:  The ratio of the number of signal events within 2 sigma of the peak to the number\n",
    "    of background events in that same x-range  (this definition is just a choice)\n",
    "    \n",
    "    Parameters\n",
    "    ==========\n",
    "     SignalToBackground : float\n",
    "     Ratio of the number of signal events within 2 sigma of the peak to the number\n",
    "    of background events in that same x-range  (this definition is just a choice) \n",
    "      \n",
    "    nSigEvents : int\n",
    "      total number of signal events generated (NOT the number in +- 2 sigma)\n",
    "      \n",
    "    seed : int\n",
    "      seed for the random number generator\n",
    "      \n",
    "    Returns\n",
    "    =======\n",
    "    data : array\n",
    "      the measurements of x\n",
    "    \"\"\"\n",
    "    fracOutsideTwoSigma = 4.55e-2\n",
    "    # 1-fracOutsideTwoSigma is the fraction of the Signal Events within +-2 sigma\n",
    "    # To get the total number of background events, find the number in +-2 sigma\n",
    "    # which is 4 units of x and then since the background is flat from 0 to 20\n",
    "    # multiply by 20/4=5\n",
    "    \n",
    "    nBackground = 5*nSigEvents*(1-fracOutsideTwoSigma)/SignalToBackground\n",
    "    nEvents = nSigEvents+nBackground\n",
    "    fSig = nSigEvents/nEvents\n",
    "    \n",
    "    # Make an array to hold the data (ie the x measurements)\n",
    "    data = []\n",
    "    \n",
    "    # set the random seed.  This will allow us to reproduce the results if we run again\n",
    "    np.random.seed(seed)\n",
    " \n",
    "    # Retrieve nEvents random numbers that will be used to pick which events are signal\n",
    "    # and which are background\n",
    "    n = int(nEvents)\n",
    "    tests = np.random.uniform(0,1,n)\n",
    "    bck = np.random.uniform(0,20,n)\n",
    "    sig = np.random.normal(10,1,n)\n",
    "    \n",
    "    count = 0\n",
    "    for test in tests:\n",
    "        if(test<fSig):\n",
    "            data.append(sig[count])\n",
    "        else:\n",
    "            data.append(bck[count])\n",
    "        count+=1\n",
    "    \n",
    "    # Loop over the events and pick either signal or background and draw from the appropriate \n",
    "    # pdf in each case\n",
    "    \n",
    "    # return the data to the user\n",
    "    return data\n",
    "    "
   ]
  },
  {
   "cell_type": "markdown",
   "id": "6",
   "metadata": {
    "flags": [
     "problems",
     "solutions"
    ]
   },
   "source": [
    "Below is a simple test to show you how to use this code.  Remember if you run this code multiple times you should change the seed each time (for example, you could increment the seed each time you call the function)"
   ]
  },
  {
   "cell_type": "code",
   "execution_count": 3,
   "id": "7",
   "metadata": {
    "flags": [
     "problems",
     "solutions"
    ]
   },
   "outputs": [
    {
     "name": "stdout",
     "output_type": "stream",
     "text": [
      "number of total data events:  115\n",
      "data:  [11.047401505881462, 11.57102936217666, 10.430661187946646, 0.05376129148641384, 19.7669083856564, 18.106831513232198, 4.15271722392649, 5.849788255848496, 10.40020306144967, 18.038227453213413, 19.672617698234465, 5.150841283081662, 11.287180858495633, 10.579689779144333, 7.887401079055496, 14.621460716891141, 3.221380288584297, 12.013971356671798, 17.317289166065294, 19.67043218407111, 1.5873158075603144, 8.566945494018984, 4.0908571909285545, 9.012729810374696, 10.95527145257708, 1.8665342073964153, 5.937215509613589, 18.55168480304295, 11.380074628603907, 9.148239950472238, 8.762646787312146, 14.837243036840746, 0.9715806568853758, 14.17394790885492, 16.784866956101673, 3.3187576841390776, 15.619958759999147, 5.730732334582038, 6.129395066591146, 13.30522930699366, 2.227843432154315, 9.800887617242747, 17.757135853524453, 13.926225364708127, 8.806557533308181, 8.764287687544494, 15.30192190478613, 11.312840024517657, 1.6980832638363519, 11.653421757228093, 8.53488377794505, 6.7413276689521995, 18.55153159150779, 15.014340006863359, 11.48127650299929, 15.032879775858367, 1.5829792147641042, 17.18778151361223, 16.43008226401116, 18.197433192204176, 2.5726239501876003, 1.6356017418797042, 2.7683114556317956, 7.9875742020560025, 8.486137221619838, 9.416463283292343, 2.444870992650101, 4.027990027627418, 16.232886965680432, 9.359751481134989, 11.218985862132426, 0.14852757089226065, 11.03185451964811, 18.638642961533563, 11.408369146076902, 4.121914548905483, 14.355151245591152, 9.330381400130241, 11.264625286968007, 0.5863944578754254, 12.718007187027123, 0.64395869875848, 14.89561310283532, 9.458260044769101, 2.4350871094610738, 10.85271851577012, 1.335488864500094, 9.317461845796695, 19.92172654735651, 15.387946741479245, 11.475482273176489, 2.052705184215917, 13.996681495458294, 13.223357346558622, 0.9819426124555264, 15.845986036891812, 8.076284270302875, 8.517353883998382, 15.76374347202931, 8.231384464176744, 9.620525510103072, 3.6325768534764924, 10.765054845997017, 9.17101116623899, 3.738074978534307, 8.345821218066883, 19.78069014790599, 4.731996234110387, 18.33664665877658, 18.36794935611266, 1.8259268440640364, 9.27305449771032, 11.175910771834607, 6.273379001042549, 0.9467907447547397]\n"
     ]
    }
   ],
   "source": [
    "mydata = []\n",
    "#  make 10 signal events with a signalToBackground of 1 using random seed 123\n",
    "mydata=makeData(1,20,123)\n",
    "print(\"number of total data events: \",len(mydata))\n",
    "print(\"data: \",mydata)"
   ]
  },
  {
   "cell_type": "markdown",
   "id": "8",
   "metadata": {
    "flags": [
     "problems",
     "solutions"
    ]
   },
   "source": [
    "Generate a sample of 1000 signal events with signalToBackground=0.5 and make a histogram of your results. Make sure that the number of bins in your histogram is small enough that you have at least 10 entries per bin (so that it is reasonable to do a binned fit to the histogram). To make life a bit easier, here is function you can use to make your histograms.  You are of course free to write your own function and not use this code."
   ]
  },
  {
   "cell_type": "code",
   "execution_count": 4,
   "id": "9",
   "metadata": {
    "flags": [
     "problems",
     "solutions"
    ]
   },
   "outputs": [],
   "source": [
    "#Import the pyplot module of matplotlib as \"plt\"\n",
    "import matplotlib.pyplot as plt\n",
    "\n",
    "\n",
    "#Makes a histogram filled with the random numbers we generate\n",
    "def plot_histogram(samples,xtitle,ytitle, title, nbins, limits):\n",
    "   \n",
    "    #Plot the histogram of the sampled data with nbins and a nice color\n",
    "    n, bins, patches =plt.hist(samples, bins=nbins, range=limits, color=(0,0.7,0.9))  #Set the color using (r,g,b) values or\n",
    "                                                                  #  use a built-in matplotlib color\"\"\" \n",
    "    bincenters = 0.5*(bins[1:]+bins[:-1])\n",
    "    errs = np.sqrt(n)\n",
    "\n",
    "    plt.errorbar(bincenters, n, yerr=errs, fmt='none')\n",
    "    #Add some axis labels and a descriptive title\n",
    "    plt.xlabel(xtitle)\n",
    "    plt.ylabel(ytitle)\n",
    "\n",
    "    #Get rid of the extra white space on the left/right edges (you can delete these two lines without a problem)\n",
    "    xmin, xmax, ymin, ymax = plt.axis()\n",
    "    plt.axis([limits[0],limits[1],ymin,ymax])\n",
    "\n",
    "    #Not necessarily needed in a Jupyter notebook, but it doesn't hurt\n",
    "    plt.show()\n",
    "    return n, bins, patches"
   ]
  },
  {
   "cell_type": "code",
   "execution_count": 5,
   "id": "10",
   "metadata": {},
   "outputs": [],
   "source": [
    "#Write your answer here"
   ]
  },
  {
   "cell_type": "markdown",
   "id": "11",
   "metadata": {},
   "source": [
    "### 1b. "
   ]
  },
  {
   "cell_type": "markdown",
   "id": "12",
   "metadata": {
    "flags": [
     "problems",
     "solutions"
    ]
   },
   "source": [
    "Pretend this is real data.  Your goal is to find the best estimate of how many events are in a Gaussian peak with unknown mean and sigma and what the uncertainty on this estimate is.  In your fit, you can make the assumption that the background is flat (a zeroth order polynomial) but that you don't have a prediction for the background rate.  Use your favorite minimization package to fit the data.  Deterimine the best estimate of the number of events in signal and the uncertainty on that estimate.  (remember, that you must let the position and width of the Gaussian and the size of the background vary in your fit).\n",
    "\n",
    "Hint: For examples of how to perform a least squared fit of a function to data see:\n",
    "- https://github.com/berkeley-physics/Python-Tutorials/blob/master/3%20-%20Specific%20topics/Fitting.ipynb\n",
    "- https://docs.scipy.org/doc/scipy/reference/generated/scipy.optimize.curve_fit.html"
   ]
  },
  {
   "cell_type": "code",
   "execution_count": 6,
   "id": "13",
   "metadata": {},
   "outputs": [],
   "source": [
    "#Write your answer here"
   ]
  },
  {
   "cell_type": "markdown",
   "id": "14",
   "metadata": {},
   "source": [
    "### 1c. "
   ]
  },
  {
   "cell_type": "markdown",
   "id": "15",
   "metadata": {
    "flags": [
     "problems",
     "solutions"
    ]
   },
   "source": [
    "What is the $\\chi^2$ per degree of freedom for your fit?  What does this number tell you about how well your fit describes the data?"
   ]
  },
  {
   "cell_type": "code",
   "execution_count": 7,
   "id": "16",
   "metadata": {},
   "outputs": [],
   "source": [
    "#Write your answer here"
   ]
  },
  {
   "cell_type": "markdown",
   "id": "17",
   "metadata": {},
   "source": [
    "### 1d. "
   ]
  },
  {
   "cell_type": "markdown",
   "id": "18",
   "metadata": {
    "flags": [
     "problems",
     "solutions"
    ]
   },
   "source": [
    "If a signal of size $N_S^{meas}$ has a fitted uncertainty $\\sigma_S$, the signficance of the measurement is defined to be\n",
    "$$\n",
    "S^{meas} \\equiv \\frac{N_S^{meas}}{\\sigma_S}\n",
    "$$\n",
    "When the size of the data sample is large enough that Gaussian uncertainties are appropriate, a rule of thumb can be used to give a crude estimate of the expected significance $S^{expected}$ of the measurement. This predicted signficance depends on the number of signal events ($N_{S}$) and is the number of background events populating the region **beneath the signal** ($N_B$):\n",
    "$$\n",
    "S^{expected}  \\approx  \\frac{N_S}{N_S+N_B}\n",
    "$$\n",
    "\n",
    "Repeat the above exercise changing both the number of events in your signal and the signalToBackground ratio.  Plot the values of the measured significance  $S^{meas}$ \n",
    "obtained from your fits as a function of $\\frac{N_S}{\\sqrt{N_S+N_B}}$.  How do your results compare to the simple rule of thumb quoted above?"
   ]
  },
  {
   "cell_type": "code",
   "execution_count": 8,
   "id": "19",
   "metadata": {},
   "outputs": [],
   "source": [
    "#Write your answer here"
   ]
  },
  {
   "cell_type": "markdown",
   "id": "6aa58a6d",
   "metadata": {},
   "source": [
    "## Question 2: Isospin: $\\pi N$ scattering (15 Points)\n",
    "\n",
    "### Learning objectives\n",
    "In this question you will:\n",
    "- Review how conservation of isospin in the strong interactions can be used to related scattering rates for different processes related by isospin\n",
    "- Apply this concept to pion nucleon scattering\n",
    "\n",
    "Consider the scattering of a pion with a nucleon.  Since the pion has $I=1$ and the nucleon has $I=\\frac{1}{2}$, there are two possible values of total isospin for this scattering:  $I=\\frac{3}{2}$ and $I=\\frac{1}{2}$.  Isospin conservation in the strong interactions means that the matrix element $H_{if} = \\left < f \\right | H_{int} \\left  | i \\right >$ (where $i$ and $f$ are the initial and final states) depends only on $I$ and not on $I_z$.  \n",
    "\n",
    "There are six possible *elastic scattering* processes:\n",
    "\n",
    "\\begin{eqnarray*}\n",
    "\\pi^{+} p  & \\rightarrow & \\pi^{+} p \\\\\n",
    "\\pi^{0} p  & \\rightarrow & \\pi^{0} p \\\\\n",
    "\\pi^{-} p  & \\rightarrow & \\pi^{-} p \\\\\n",
    "\\pi^{+} n  & \\rightarrow & \\pi^{+} n \\\\\n",
    "\\pi^{0} n  & \\rightarrow & \\pi^{0} n \\\\\n",
    "\\pi^{-} n  & \\rightarrow & \\pi^{-} n \\\\\n",
    "\\end{eqnarray*}\n",
    "\n",
    "And four possible *charge exchange* processes:\n",
    "\n",
    "\\begin{eqnarray*}\n",
    "\\pi^{+} n & \\rightarrow & \\pi^{-} p \\\\\n",
    "\\pi^{0} p & \\rightarrow & \\pi^{+} n \\\\\n",
    "\\pi^{-} p & \\rightarrow & \\pi^{0} n \\\\\n",
    "\\pi^{0} n & \\rightarrow & \\pi^{-} p \\\\\n",
    "\\end{eqnarray*}\n",
    "\n",
    "\n",
    "Since all 10 of these processes have the same phase space terms, the relative rates for the processes can be calculated in terms of only two independent terms: $M_{\\frac{1}{2}} = \\left < I=\\frac{1}{2}\\right | H_{int} \\left | I= \\frac{1}{2}\\right >$ and $M_{\\frac{3}{2}} = \\left < I=\\frac{3}{2}\\right | H_{int} \\left | I= \\frac{3}{2}\\right >$\n",
    "\n",
    "### 2a.\n",
    "\n",
    "For the state $\\pi^+ p$ we can describe the isospin of the state in the uncoupled and coupled bases:\n",
    "$$\n",
    "\\left |m_1=+1, m_2=\\frac{1}{2} \\right > = \\left |I=\\frac{3}{2}, m=\\frac{3}{2} \\right >\n",
    "$$\n",
    "The decomposition for the $\\pi^- p$ and $\\pi^0 n$ states are derived on page 7 of the lecture 9 slides.\n",
    "For the other three possible $\\pi N$ charge combinations (corresponding to the left hand side of the elastic scattering interactions listed above), write the description of the isospin state using the same nomenclature.  You may look up the Clebsch-Gordon coefficients in a Clebsch-Gordon table.\n",
    "\n",
    "Write your answer here\n",
    "\n",
    "### 2b.\n",
    "\n",
    "Using the results from 2a. and the fact that the scatttering cross sections are proportional to $\\left |H_{if} \\right |^2$ calculate the ratios of the cross sections for the following processes:\n",
    "\n",
    "\\begin{eqnarray*}\n",
    "(a) & & \\frac{\\sigma(\\pi^{-} p\\rightarrow \\pi^{-} p)}{\\sigma(\\pi^{+} p\\rightarrow \\pi^{+} p)} \\\\\n",
    "(b) & & \\frac{\\sigma(\\pi^{-} p\\rightarrow \\pi^{0} n)}{\\sigma(\\pi^{-} p\\rightarrow \\pi^{-} p)}\\\\\n",
    "(c) & & \\frac{\\sigma(\\pi^{0} n\\rightarrow \\pi^{-} p)}{\\sigma(\\pi^{0} n\\rightarrow \\pi^{0} n)}\n",
    "\\end{eqnarray*}\n",
    "\n",
    "Express your answers in terms of $M_{\\frac{1}{2}}$ and $M_{\\frac{3}{2}}$\n",
    "\n",
    "Write your answer here\n",
    "\n",
    "## Question 3: Isospin:  The $\\Delta$ resonance (Thomson 9.3) (15 points)\n",
    "\n",
    "### Learning objectives\n",
    "In this question you will:\n",
    "- Review the fact that isospin conservation in the strong interaction can also be used to relate decay rates\n",
    "- Apply this concept to the case od $\\Delta$ decays\n",
    "\n",
    "By considering the isospin states show that the rates for the following strong interaction decays occur in the ratios:\n",
    "$$\n",
    "\\begin{array}{cccc}\n",
    "\\Gamma(\\Delta^{-} \\rightarrow \\pi^{-} n) : &\n",
    "\\Gamma(\\Delta^{0} \\rightarrow \\pi^{-} p) : & \n",
    "\\Gamma(\\Delta^{0} \\rightarrow \\pi^{0} n) : & \n",
    "\\Gamma(\\Delta^{+} \\rightarrow \\pi^{+} n) : \\\\\n",
    " \\Gamma(\\Delta^{+} \\rightarrow \\pi^{0} p) : & \n",
    "\\Gamma(\\Delta^{++} \\rightarrow \\pi^{+} p)  & \n",
    "= &   3:1:2:1:2:3 &  \\\\\n",
    "\\end{array}\n",
    "$$\n",
    "\n",
    "Note:  Because the $\\Delta$ can be created in $\\pi^+ p$ scattering, we know that it has isospin $I=\\frac{3}{2}$\n",
    "\n",
    "Write your answer here\n",
    "\n",
    "## Question 4 SU(3) $\\lambda $ matrices (25 points)\n",
    "\n",
    "### Learning objectives\n",
    "In this question you will:\n",
    "- Review the definition of the $\\lambda$ matrices (the generators of SU(3) symmetry)\n",
    "- Show that the SU(3) group contains three SU(2) subgroups and construct the raising and lowering operators for these subgroups\n",
    "\n",
    "We learned in Quantum Mechanics that the smallest representation of angular momentum has dimension 2 (spin-$\\frac{1}{2}$) and that the generators of infinitesmal rotations in this fundamental representation can be written as the three $2\\times 2$ Pauli matrices $\\sigma_x$, $\\sigma_y$ and $\\sigma_z$ that satisfy the SU(2) commutation relations \n",
    "$$\\left [\\frac{1}{2}\\sigma_i, \\frac{1}{2}\\sigma_j \\right ] = i \\epsilon_{ijk} \\frac{1}{2} \\sigma_k$$\n",
    "\n",
    "Similarly, the fundamental representation of SU3) can be written as a set of eight $3\\times 3$ matrices called the $\\lambda$-martices:\n",
    "\n",
    "\\begin{eqnarray*}\n",
    "\\lambda_1 = \\left( \n",
    "\\begin{array}{ccc} 0 & 1 & 0 \\\\ 1 & 0 & 0 \\\\ 0 & 0 & 0 \\\\\n",
    "\\end{array} \\right)\n",
    "& \n",
    "\\lambda_2 = \\left( \n",
    "\\begin{array}{ccc} 0 & -i & 0 \\\\ i & 0 & 0 \\\\ 0 & 0 & 0 \\\\\n",
    "\\end{array} \\right)\n",
    "&\n",
    "\\lambda_3 = \\left( \n",
    "\\begin{array}{ccc} 1 & 0 & 0 \\\\ 0 & -1 & 0 \\\\ 0 & 0 & 0 \\\\\n",
    "\\end{array} \\right)\n",
    "\\\\\n",
    "\\lambda_4 = \\left( \n",
    "\\begin{array}{ccc} 0 & 0 & 1 \\\\ 0 & 0 & 0 \\\\ 1 & 0 & 0 \\\\ \n",
    "\\end{array} \\right)\n",
    "& \n",
    "\\lambda_5 = \\left( \n",
    "\\begin{array}{ccc} 0 & 0 & -i \\\\ 0 & 0 & 0 \\\\ i & 0 & 0 \\\\\n",
    "\\end{array} \\right)\n",
    "&\n",
    "\\lambda_6 = \\left( \n",
    "\\begin{array}{ccc} 0 & 0 & 0 \\\\ 0 & 0 & 1 \\\\ 0 & 1 & 0 \\\\\n",
    "\\end{array} \\right)\n",
    "\\\\\n",
    "\\lambda_7 = \\left( \n",
    "\\begin{array}{ccc} 0 & 0 & 0 \\\\ 0 & 0 & -i \\\\ 0 & i & 0 \\\\\n",
    "\\end{array} \\right)\n",
    "& &\n",
    "\\lambda_8 = \\frac{1}{\\sqrt{3}}\\left( \n",
    "\\begin{array}{ccc} 1 & 0 & 0 \\\\ 0 & 1 & 0 \\\\ 0 & 0 & -2 \\\\\n",
    "\\end{array} \\right)\n",
    " \\\\\n",
    "\\end{eqnarray*}\n",
    "\n",
    "### 4a.\n",
    "\n",
    "Examining the first three $\\lambda$ shows that they are just the Pauli matrices with zeros added in the third row and column.  Thus, these three matrices form a subgroup of SU(2) within the SU(3) group and obey the commutation relations we know from angular momentum.  This is one of three SU(2) subgroups within the SU(2) group.  We call them:\n",
    "$$\n",
    "\\begin{array}{lccc}\n",
    "{\\rm Isospin} & \\lambda_1 & \\lambda_2 & \\lambda_3 \\\\\n",
    "{\\rm U-spin:} &  \\lambda_4 & \\lambda_5& \\frac{1}{2} \\left (\\sqrt{3}\\lambda_8+\\lambda_3\\right )\\\\\n",
    "{\\rm V-spin:} &  \\lambda_6 & \\lambda_7& \\frac{1}{2} \\left (\\sqrt{3}\\lambda_8 -\\lambda_3 \\right )\\\\\n",
    "\\end{array}\n",
    "$$\n",
    "Using explicity matrix multiplication.  Show that the generator of U-spin and V-spin satisfy the commutation relations that define the SU(2) algebra.\n",
    "\n",
    "Write your answer here\n",
    "\n",
    "### 4b.\n",
    "\n",
    "The fundamental representation of SU(3) can be written as the three column matrices which in we call in the quark model:\n",
    "$$\n",
    "\\begin{array}{ccc}\n",
    "u \\equiv \\left (\n",
    "\\begin{array}{c} \n",
    "1\\\\ 0 \\\\ 0 \n",
    "\\end{array}\n",
    "\\right )\n",
    "&\n",
    "d \\equiv \\left (\n",
    "\\begin{array}{c} \n",
    "0\\\\ 1 \\\\ 0 \n",
    "\\end{array}\n",
    "\\right )\n",
    "& \n",
    "s \\equiv \\left (\n",
    "\\begin{array}{c} \n",
    "0\\\\ 0 \\\\ 1 \n",
    "\\end{array}\n",
    "\\right )\n",
    "\\\\\n",
    "\\end{array}\n",
    "$$\n",
    "Show that the raising (lowering) operators\n",
    "$$\n",
    "\\begin{array}{ccc}\n",
    "I_{\\pm} = \\frac{1}{2} \\left (\\lambda_1 \\pm i \\lambda_2 \\right ) &\n",
    "U_{\\pm} = \\frac{1}{2} \\left (\\lambda_4 \\pm i \\lambda_5 \\right )\n",
    "& \n",
    "V_{\\pm} = \\frac{1}{2} \\left (\\lambda_6 \\pm i \\lambda_7 \\right )\n",
    "\\end{array}\n",
    "$$\n",
    "turn $u$ into $d$ (and visa versa), $u$ into $s$ (and visa versa) and $d$ into $s$ (and visa veras)\n",
    "\n",
    "Write your answer here\n",
    "\n",
    "## Question 5: $\\Lambda^{0} $ polarization in the strong interactions (20 points) \n",
    "\n",
    "### Learning objectives\n",
    "In this question you will:\n",
    "\n",
    "- Apply the concept of parity conservation in the strong interactions to determine what functional forms are allowed for a specific observable (the polarization)\n",
    "\n",
    "Consider the production of $\\Lambda$ particles via a strong interaction:\n",
    "\n",
    "$$\n",
    "p + p \\rightarrow \\Lambda^{0} + X\n",
    "$$\n",
    "\n",
    "where $X$ represents one of more additional final state particles that are not necessarily observed. Assume that the $\\Lambda^{0}$ and  $X$ each have the same parity as the proton. Also assume that the initial protons are unpolarized.   In the center-of-mass frame, the momentum vectors of the two protons and the $\\Lambda^{0}$ all lie in a plane, called the production plane:\n",
    "\n",
    "<img src=\"productionPlane.png\" alt=\"Drawing\" style=\"width: 600px;\"/>\n",
    "\n",
    "It has been observed that $\\Lambda^{0}$ (which are spin 1/2 particles) are polarized.  This means that the expectation value  $\\left < \\vec S_{\\Lambda} \\cdot \\hat n\\right > \\ne 0$ for certain unit vectors $\\hat n$.  Here $\\vec S_{\\Lambda}$ is the spin vector of the $\\Lambda^{0}$.  \n",
    "\n",
    "In this problem, you will determine what possible directions $\\hat n$ can have.\n",
    "\n",
    "### 5a. \n",
    "\n",
    "Show that if $\\hat n$ lies in the production plane, then $\\left < \\vec S_{\\Lambda} \\cdot \\hat n\\right > = 0$ if parity is conserved \n",
    "\n",
    "#Write your answer here\n",
    "\n",
    "### 5b. \n",
    "\n",
    "Show that a non-zero value of $\\left < \\vec S_{\\Lambda} \\cdot \\hat n\\right > $ is possible if $\\hat n$ is perpendicular to the production plane\n",
    "\n",
    "###  Hints:\n",
    "\n",
    "1) Work in the center-of-mass frame since this is where the production plane is defined.  For each of the two cases (in the production plane and out of the production plane), the unit vector $\\hat n$ direction can be written as an expression that depends the 3-momenta of the specified particles (perhaps with free parameters).\n",
    "\n",
    "2) In the center of mass frame of two unpolarized colliding particles of the same species, the scattering rate must be be a symmetric function of $\\cos \\theta^*$ (the polar angle with respect to the $pp$ direction) since there is no distinction between the forward and backward directions.  \n",
    "\n",
    "\n",
    "#Write your answer here"
   ]
  }
 ],
 "metadata": {
  "kernelspec": {
   "display_name": "Python 3 (ipykernel)",
   "language": "python",
   "name": "python3"
  },
  "language_info": {
   "codemirror_mode": {
    "name": "ipython",
    "version": 3
   },
   "file_extension": ".py",
   "mimetype": "text/x-python",
   "name": "python",
   "nbconvert_exporter": "python",
   "pygments_lexer": "ipython3",
   "version": "3.9.13"
  }
 },
 "nbformat": 4,
 "nbformat_minor": 5
}
