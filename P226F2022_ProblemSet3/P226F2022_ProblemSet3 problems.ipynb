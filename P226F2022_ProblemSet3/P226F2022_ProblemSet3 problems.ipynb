{
 "cells": [
  {
   "cell_type": "markdown",
   "metadata": {},
   "source": [
    "# Physics 226 Fall 2022: Problem Set 3 "
   ]
  },
  {
   "cell_type": "markdown",
   "metadata": {},
   "source": [
    "## Question 1: Relativistic Expressions Relevant for Accelerator Performance  (15 points)"
   ]
  },
  {
   "cell_type": "markdown",
   "metadata": {},
   "source": [
    "### Learning objectives\n",
    "In this question you will:\n",
    "\n",
    "- Derive the expressions for the center-of-mass energy at colliders and in fixed target experiments\n",
    "- Show that when the masses of the beam and target can be neglected, the expressions reduce to a simple form\n",
    "- Apply these expressions to a specific accelerator configuration"
   ]
  },
  {
   "cell_type": "markdown",
   "metadata": {},
   "source": [
    "In the pdf file for Lecture 4, page 6 defines the configuration of the beams for colliding beam and fixed target experiments and gives expressions for the center-of-mass energy $\\sqrt{s}$ in the limit where the mass of the beam particle(s) is small compared to its energy."
   ]
  },
  {
   "cell_type": "markdown",
   "metadata": {},
   "source": [
    "### 1a."
   ]
  },
  {
   "cell_type": "markdown",
   "metadata": {},
   "source": [
    "Explicitly derive the expressions for the center-of-mass energy for the collider and fixed target case NOT assuming that the masses of the colliding particles are small."
   ]
  },
  {
   "cell_type": "markdown",
   "metadata": {},
   "source": [
    "Write your answer here"
   ]
  },
  {
   "cell_type": "markdown",
   "metadata": {},
   "source": [
    "### 1b. "
   ]
  },
  {
   "cell_type": "markdown",
   "metadata": {},
   "source": [
    "Using your result from 1a and appropriate approximations, derive the expressions quoted in class:\n",
    "$$E_{cm}^{collider} = \\sqrt{4E_1E_2} {\\; \\rm and \\;} E_{cm}^{fixed\\; target} = \\sqrt{2m_{target}E_{beam}}$$"
   ]
  },
  {
   "cell_type": "markdown",
   "metadata": {},
   "source": [
    "Write your answer here"
   ]
  },
  {
   "cell_type": "markdown",
   "metadata": {},
   "source": [
    "### 1c. "
   ]
  },
  {
   "cell_type": "markdown",
   "metadata": {},
   "source": [
    "he Babar experiment (which ran at SLAC until Spring 2008) and the recently upgraded Belle experiment at KEK in Japan\n",
    "study $B$ mesons produced in $\\Upsilon (4s)$ decays through the process $e^+e^- \\rightarrow \\Upsilon (4s) \\rightarrow  B {\\overline B}$.  Both accelerators were designed to operate at a center-of-mass energy of 10.56 GeV (corresponding to the $\\Upsilon (4s)$ mass). Both accelerators are asymmetric colliders, where the energies of the $e^+$ and $e^-$ beams are not the same.  This asymmetry means that the center-of-mass is boosted along the beam direction and therefore the produced $B$ mesons are moving, making it possible to measure their lifetime by looking\n",
    "at the distance they travel before decaying.\n",
    "\n",
    "For a boost of $\\beta \\gamma = 0.56$ along the $e^+$ direction of motion, determine the required energies\n",
    "of the $e^+$ and $e^-$."
   ]
  },
  {
   "cell_type": "markdown",
   "metadata": {},
   "source": [
    "Write your answer here"
   ]
  },
  {
   "cell_type": "markdown",
   "metadata": {},
   "source": [
    "Determine the average distance between the $B$ production point and its decay point in the LAB.  (Note:  You can find the value of the $B$ meson lifetime on the PDG website.  The charged and neutral $B$  mesons have almost the same lifetime.  Use the $B^0$ lifetime for this problem.  Also, note that in the center-of-mass energy of\n",
    "the B-factories is very close to twice the $B$ mass.  You may therefore make the approximation that the $B$ mesons are produced at rest in the center-of-mass.)\n"
   ]
  },
  {
   "cell_type": "raw",
   "metadata": {},
   "source": [
    "Write your answer here"
   ]
  },
  {
   "cell_type": "markdown",
   "metadata": {},
   "source": [
    "For the two body decay $B^0\\rightarrow \\pi^+\\pi^-$, determine the  range of the possible LAB momenta of the two pions.  Note: For   this calculation, you may make the approximation that the pion is massless.\n"
   ]
  },
  {
   "cell_type": "markdown",
   "metadata": {},
   "source": [
    "Write your answer here"
   ]
  },
  {
   "cell_type": "markdown",
   "metadata": {},
   "source": [
    "## Question 2: Cherenkov Imaging (10 points)"
   ]
  },
  {
   "cell_type": "markdown",
   "metadata": {},
   "source": [
    "### Learning objectives\n",
    "In this question you will:\n",
    "\n",
    "- Review the expression that determines when Cherenkov light is emitted and how the angle of the Cherenkov cone is related to a particle's speed and the index of refraction of the medium\n",
    "- Apply the concepts of resolution and of confidence level to the case of a Cherenkov detector"
   ]
  },
  {
   "cell_type": "markdown",
   "metadata": {},
   "source": [
    "In BaBar, the DIRC detector identifies charged    particles (eg distinguishes $\\pi^\\pm$ from $K^\\pm$)  by reconstructing Cherenkov rings produced in a thin quartz bar. The index of refraction of quartz is n = 1.2. "
   ]
  },
  {
   "cell_type": "markdown",
   "metadata": {},
   "source": [
    "### 2a. "
   ]
  },
  {
   "cell_type": "markdown",
   "metadata": {},
   "source": [
    "What is the momentum below which $K^+$  do not produce Cherenkov light?"
   ]
  },
  {
   "cell_type": "markdown",
   "metadata": {},
   "source": [
    "Write your answer here"
   ]
  },
  {
   "cell_type": "markdown",
   "metadata": {},
   "source": [
    "### 2b"
   ]
  },
  {
   "cell_type": "markdown",
   "metadata": {},
   "source": [
    "A charged particle is observed to have a momentum of 2.5 GeV.  What are the predicted angles of the Cherenkov cone produced if the particle is a $\\pi^\\pm$ and if it is a $K^\\pm$?"
   ]
  },
  {
   "cell_type": "markdown",
   "metadata": {},
   "source": [
    "Write your answer here"
   ]
  },
  {
   "cell_type": "markdown",
   "metadata": {},
   "source": [
    "### 2c"
   ]
  },
  {
   "cell_type": "markdown",
   "metadata": {},
   "source": [
    "The angular resolution for the Cherenkov cone of the DIRC detector is approximately $\\sigma(\\theta_c ) = 2.5$~mrad.  This means that the measured Cherenkov angle  distributed about the true value such that\n",
    "$$\n",
    "    \\theta_c^{meas} - \\theta_c^{true} \\;\\; = \\;\\;  \\frac{1}{\\sigma_c \\sqrt{2\\pi}} \\exp \\left [-\\frac{1}{2\\sigma^2} \\right ]\n",
    "$$\n",
    "\n",
    "As the charged particle momentum increases, the Cherenkov angles for $\\pi^\\pm$ and $K^\\pm$ of the same momentum converge towards the same value.  The largest momentum for which the two hypothesis can be distinguished depends on $\\sigma_c$. Scientists use the term confidence level to describe how well we can tell two hypothesis apart  A 90\\%\\ confidence level separation means that it we start with equal populations in the two possibilities, we will choose the wrong hypothesis 10\\%\\ of the time. See, for example, the PDG review of statistics Figure 40.4 and Table 40.1.  From that table, you learn that a 90\\%\\ confidence level separation corresponds to  $1.64 \\sigma$ for a two-sided cut. Here, however, we are doing something slightly different.  If we have two Gaussians where one is centered at $\\theta=0$ and the other is centered at $\\theta=n\\sigma$ then the natural way to assign particles by species is to say all the measurements with $\\theta>n\\sigma/2$ belong to the Gaussian centered at $\\theta=n\\sigma$ and the others belong to the Gaussian centered at $\\theta=0$.  The probability of getting the wrong assignment with this strategty is called a one-sided confidence limit.  In our case, we must ask that $10\\% $ of the events be in one tail (so\n",
    "$20\\% $ in both tails).  That corresponds to having the distance be 1.28$\\sigma$ from each peak, or 2.56 $\\sigma$\n",
    "between the peaks, as shown here:"
   ]
  },
  {
   "cell_type": "markdown",
   "metadata": {},
   "source": [
    "<img src=\"tofCL.png\" alt=\"Drawing\" style=\"width: 600px;\"/>"
   ]
  },
  {
   "cell_type": "markdown",
   "metadata": {},
   "source": [
    "Here, the hatched regions correspond to the cases where the species are misidentified.\n",
    "\n",
    "Using this definition of confidence level, what is the maximum momentum for which  $\\pi^+$ and $K^+$ can be separated at the 90\\%\\ confidence level in the BaBar DIRC?"
   ]
  },
  {
   "cell_type": "markdown",
   "metadata": {},
   "source": [
    "## Question 3: Luminosity of a Collider (10 points)"
   ]
  },
  {
   "cell_type": "markdown",
   "metadata": {},
   "source": [
    "\n",
    "### Learning objectives\n",
    "In this question you will:\n",
    "\n",
    "- Review the expression for calculating the luminosity of a collider from the beam parameters\n",
    "- Review how the number of produced events is related to the luminosity and the production cross section"
   ]
  },
  {
   "cell_type": "markdown",
   "metadata": {},
   "source": [
    "(Modified version of Thomson problem 1.11)  At the LEP $e^+e^-$ collider, which had a circumference of 27~km, the electron and positron beam currents were each 1.0 mAmps per bunch.  Each beam consisted of four equally spaced bunches of electrons/positrons so that the total electron current was 4.0 mAmps and the total positron current was 4.0 mAmps.  Each beam had an rms x-size of $\\sigma_x=250$ $\\mu$m and an rms y-size of $\\sigma_y = 4.0$ $\\mu$m."
   ]
  },
  {
   "cell_type": "markdown",
   "metadata": {},
   "source": [
    "### 3a"
   ]
  },
  {
   "cell_type": "markdown",
   "metadata": {},
   "source": [
    " Calculate the instantaneous luminosity on the assumption that the beams collided head-on."
   ]
  },
  {
   "cell_type": "markdown",
   "metadata": {},
   "source": [
    "Write your  answer here"
   ]
  },
  {
   "cell_type": "markdown",
   "metadata": {},
   "source": [
    "### 3b"
   ]
  },
  {
   "cell_type": "markdown",
   "metadata": {},
   "source": [
    "The cross section for the process $e^{+}e^{-}\\rightarrow hadrons$ at a center of mass energy of 91.18 GeV (the $Z$ mass) is 41.54 nb (1 nb $=1\\times 10^{-33}$ cm$^{2}$).  How many hadronic events would be produced at LEP in 1 year?  Assume that the time that LEP operated in one year was $10^7$ seconds, in other words that the machine operated about 1/3 of the time."
   ]
  },
  {
   "cell_type": "markdown",
   "metadata": {},
   "source": [
    "put answer here"
   ]
  },
  {
   "cell_type": "markdown",
   "metadata": {},
   "source": [
    "## Question 4: Central Limit Theorem (25 points)"
   ]
  },
  {
   "cell_type": "markdown",
   "metadata": {},
   "source": [
    "### Learning objectives\n",
    "In this question you will:\n",
    "\n",
    "- See that you can use $\\sigma$ as a measure of resolution even for distributions that are not Gaussian\n",
    "- Learn how to write a simple Monte Carlo and use it to reproduce an analytical result\n"
   ]
  },
  {
   "cell_type": "markdown",
   "metadata": {
    "flags": [
     "problems",
     "solutions"
    ]
   },
   "source": [
    "The [*Central Limit Theorem*](https://en.wikipedia.org/wiki/Central_limit_theorem) tells us  that \n",
    "the distribution of the sum (or average) of a large number of independent, identically \n",
    "distributed measurements will be approximately normal, regardless of the underlying distribution\n",
    "(subject to the condition that mean and variance of the underlying distribution are not infinite).\n",
    "We'll see how this works for the simplest pdf ([probability density function](https://www.khanacademy.org/math/statistics-probability/random-variables-stats-library/random-variables-continuous/v/probability-density-functions)), a random variable $x$ uniformly distributed:"
   ]
  },
  {
   "cell_type": "markdown",
   "metadata": {
    "flags": [
     "problems",
     "solutions"
    ]
   },
   "source": [
    "$$f(x) = \\begin{cases} \\frac{1}{b-a} &\\mbox{if } a \\leq x \\leq b \\\\ \n",
    "0 & \\mbox{otherwise} \\end{cases} $$"
   ]
  },
  {
   "cell_type": "markdown",
   "metadata": {},
   "source": [
    "### 4a. "
   ]
  },
  {
   "cell_type": "markdown",
   "metadata": {
    "flags": [
     "problems",
     "solutions"
    ]
   },
   "source": [
    "Show that the mean $\\mu\\equiv \\int_{\\infty}^{\\infty} x f(x) dx$ is $\\frac{b+a}{2}$ and the variance $\\sigma^2\\equiv  \\int_{\\infty}^{\\infty} x^2 f(x) dx- \\mu^2$ is $\\frac{(b-a)^2}{12}$ for the above distribution."
   ]
  },
  {
   "cell_type": "markdown",
   "metadata": {},
   "source": [
    "Write your answer here"
   ]
  },
  {
   "cell_type": "markdown",
   "metadata": {},
   "source": [
    "### 4b. "
   ]
  },
  {
   "cell_type": "markdown",
   "metadata": {
    "flags": [
     "problems",
     "solutions"
    ]
   },
   "source": [
    "Let $a=0$ and $b=1$. Using your favorite random number generator, generate 1000 random numbers from the uniform distribution, $f(x)$.  Calculate the mean and variance of the numbers you generate.  Hint: You can use the NumPy (Numerical Python) library to generate random numbers from the (0,1) uniform distribution:"
   ]
  },
  {
   "cell_type": "code",
   "execution_count": 8,
   "metadata": {
    "flags": [
     "problems",
     "solutions"
    ]
   },
   "outputs": [
    {
     "name": "stdout",
     "output_type": "stream",
     "text": [
      "[0.98616779 0.19306473 0.986871   0.04427991 0.34481914 0.73635056\n",
      " 0.35222346 0.2647532  0.90343305 0.40068749]\n"
     ]
    }
   ],
   "source": [
    "#Import the NumPy library as \"np\"\n",
    "import numpy as np\n",
    "\n",
    "#Use NumPy to generate a list (it's actually a numpy.ndarray) of 1000 random numbers\n",
    "samples = np.random.rand(1000)\n",
    "\n",
    "#Print the first 10 random numbers\n",
    "print(samples[0:10])"
   ]
  },
  {
   "cell_type": "markdown",
   "metadata": {
    "flags": [
     "problems",
     "solutions"
    ]
   },
   "source": [
    "Write your own functions to find the mean and variance of a list of numbers:"
   ]
  },
  {
   "cell_type": "code",
   "execution_count": 9,
   "metadata": {
    "flags": [
     "problems",
     "solutions"
    ]
   },
   "outputs": [],
   "source": [
    "def find_mean(num_list):\n",
    "    \n",
    "    # \"\"\"Your code here to calculate mean\"\"\"\n",
    "    \n",
    "    return mean\n",
    "\n",
    "def find_variance(num_list):\n",
    "    \n",
    "    # \"\"\"Your code here to calculate variance\"\"\"\n",
    "    \n",
    "    return variance"
   ]
  },
  {
   "cell_type": "code",
   "execution_count": 10,
   "metadata": {},
   "outputs": [],
   "source": [
    "#Write your answer here"
   ]
  },
  {
   "cell_type": "markdown",
   "metadata": {},
   "source": [
    "### 4c. "
   ]
  },
  {
   "cell_type": "markdown",
   "metadata": {
    "flags": [
     "problems",
     "solutions"
    ]
   },
   "source": [
    "Do these numerical results agree with the analytical results you found above?"
   ]
  },
  {
   "cell_type": "markdown",
   "metadata": {},
   "source": [
    "Write your answer here"
   ]
  },
  {
   "cell_type": "markdown",
   "metadata": {},
   "source": [
    "### 4d. "
   ]
  },
  {
   "cell_type": "markdown",
   "metadata": {
    "flags": [
     "problems",
     "solutions"
    ]
   },
   "source": [
    "Make a histogram  with 100 bins where the lower edge of the first bin is at $x=0$ and the upper\n",
    "edge of the last is at $x=1$.  Fill your histogram with the random numbers you generated above."
   ]
  },
  {
   "cell_type": "markdown",
   "metadata": {
    "flags": [
     "problems",
     "solutions"
    ]
   },
   "source": [
    "We'll use the **matplotlib.pyplot** module to make several histograms throughout the assignment, so we should go ahead and import it now.  Making a histogram from a list of numbers is as simple as calling [plt.hist()](https://matplotlib.org/api/_as_gen/matplotlib.pyplot.hist.html), with the list as the input parameter.  There are many optional parameters, like the number of bins and the color of the bars.\n",
    "\n",
    "Since our histograms will share similar formatting, it's also useful to define a function rather than typing the same thing over and over.  For this homework, we'll supply the histogramming routine.  In the future, you will write this code yourself."
   ]
  },
  {
   "cell_type": "code",
   "execution_count": 11,
   "metadata": {
    "flags": [
     "problems",
     "solutions"
    ]
   },
   "outputs": [],
   "source": [
    "#Import the pyplot module of matplotlib as \"plt\"\n",
    "import matplotlib.pyplot as plt\n",
    "\n",
    "\n",
    "#Makes a histogram filled with the random numbers we generate\n",
    "def plot_histogram(samples,xtitle,ytitle, title, limits):\n",
    "    \n",
    "    #It would be nice to have the mean and standard deviation in the title, so let's get these\n",
    "    mean, sigma = np.mean(samples), np.sqrt(np.var(samples))\n",
    "    #Plot the histogram of the sampled data with 100 bins and a nice color\n",
    "    plt.hist(samples, bins=100, range=limits, color=(0,0.7,0.9))  #Set the color using (r,g,b) values or\n",
    "                                                                  #  use a built-in matplotlib color\"\"\" \n",
    "\n",
    "    #Add some axis labels and a descriptive title\n",
    "    plt.xlabel(xtitle)\n",
    "    plt.ylabel(ytitle)\n",
    "    plt.title(title+'\\n $\\mu={0:.3f},\\ \\sigma={1:.3f}$'.format(mean,sigma) )\n",
    "\n",
    "    #Get rid of the extra white space on the left/right edges (you can delete these two lines without a problem)\n",
    "    xmin, xmax, ymin, ymax = plt.axis()\n",
    "    plt.axis([limits[0],limits[1],ymin,ymax])\n",
    "\n",
    "    #Not necessarily needed in a Jupyter notebook, but it doesn't hurt\n",
    "    plt.show()"
   ]
  },
  {
   "cell_type": "markdown",
   "metadata": {
    "flags": [
     "problems",
     "solutions"
    ]
   },
   "source": [
    "Take some time to play with the plot formatting and choose a [color](https://matplotlib.org/2.0.2/api/colors_api.html) you like for the bars.  Then call the function with your random samples."
   ]
  },
  {
   "cell_type": "code",
   "execution_count": 12,
   "metadata": {},
   "outputs": [],
   "source": [
    "#Write your answer here"
   ]
  },
  {
   "cell_type": "markdown",
   "metadata": {},
   "source": [
    "### 4e. "
   ]
  },
  {
   "cell_type": "markdown",
   "metadata": {
    "flags": [
     "problems",
     "solutions"
    ]
   },
   "source": [
    "Now suppose you make an ensemble of 1000 pseudoexperiments where each pseduoexperiment consists of $N$ uniformly distributed random numbers.  For each pseudoexperiment, define the measurement $S$ to be\n",
    "\n",
    "$$\n",
    "S \\equiv \\frac{1}{N} \\sum_1^N x_i\n",
    "$$\n",
    "\n",
    "Make histograms of $S$ with the same $x-$axis as above for the cases $N=2$, $N=5$\n",
    "and $N=10$.  Determine the mean and the $\\sigma$ of the distributions displayed in\n",
    "these histograms.  "
   ]
  },
  {
   "cell_type": "code",
   "execution_count": 13,
   "metadata": {
    "flags": [
     "problems",
     "solutions"
    ]
   },
   "outputs": [],
   "source": [
    "#Calculates and returns S as defined above\n",
    "def pseudoexperiment(N):\n",
    "    samples = np.random.rand(N)  #samples = [x_1, x_2, ... x_N]\n",
    "    s = 0  #replace this with your calculation of s\n",
    "    \n",
    "    \"\"\"Your code here\"\"\"\n",
    "    \n",
    "    return s\n",
    "\n",
    "#Performs each pseudoexperiment 1000 times and plot a histogram of the results\n",
    "def run_pseudoexperiments(N):\n",
    "    s_list = []\n",
    "    #run the ensemble of 1000 pseudoexperiments and store measurements\n",
    "    for i in range(1000):\n",
    "        s_list.append(pseudoexperiment(N))\n",
    "    #plot a histogram of these 1000 mesa\n",
    "    plot_histogram(s_list,\"Mean Value of x\",\"Number of Entries\",\"1000 PseudoExperiments, each with \"+str(N)+\" Randomly Distributed x values\",[0.0,1.0])"
   ]
  },
  {
   "cell_type": "code",
   "execution_count": 14,
   "metadata": {
    "flags": [
     "problems",
     "solutions"
    ]
   },
   "outputs": [],
   "source": [
    "# Uncomment this and run it after you have completed the code above\n",
    "#for N in [2,5,10]:\n",
    "#    run_pseudoexperiments(N)"
   ]
  },
  {
   "cell_type": "markdown",
   "metadata": {
    "flags": [
     "problems",
     "solutions"
    ]
   },
   "source": [
    "In each case, compare the $\\sigma$ you obtain to what you would predict if you assumed the experiments followed a normal distribution."
   ]
  },
  {
   "cell_type": "code",
   "execution_count": 15,
   "metadata": {},
   "outputs": [],
   "source": [
    "#Write your answer here"
   ]
  },
  {
   "cell_type": "markdown",
   "metadata": {},
   "source": [
    "## Question 5: Detector Resolution and Monte Carlo methods (40 points)"
   ]
  },
  {
   "cell_type": "markdown",
   "metadata": {},
   "source": [
    "### Learning objectives\n",
    "In this question you will:\n",
    "\n",
    "- Understand what position resolution means using a silicon strip detector as an example\n",
    "- Demonstrate that you can use simulation to solve problems that are more complicated than what can be done analytically\n",
    "- Learn how noise affects measurements\n"
   ]
  },
  {
   "cell_type": "markdown",
   "metadata": {
    "flags": [
     "problems",
     "solutions"
    ]
   },
   "source": [
    "In this problem we will study how the position resolution of a detector depends upon the properties of that detector. For our example, we will consider a silicon strip detector. We will describe our detector as an $x$-$y$ plane segmented into strips, each of width $\\ell$ in the $y$-direction. When a track moving in the $z$-direction passes through the plane, it deposits energy in the detector and that energy is collected using charge sensitive ampliﬁers (one per strip). You many assume that the incident track is normal to the silicon plane. Looking down on the strip detector (so that the incident tracks are traveling into the page), the detector looks like this:"
   ]
  },
  {
   "cell_type": "markdown",
   "metadata": {
    "flags": [
     "problems",
     "solutions"
    ]
   },
   "source": [
    "<img src=\"strips.png\" alt=\"Drawing\" style=\"width: 600px;\"/>"
   ]
  },
  {
   "cell_type": "markdown",
   "metadata": {
    "flags": [
     "problems",
     "solutions"
    ]
   },
   "source": [
    "The position $x=0$, $y=0$ is taken to be the center of the middle strip."
   ]
  },
  {
   "cell_type": "markdown",
   "metadata": {},
   "source": [
    "### 5a. "
   ]
  },
  {
   "cell_type": "markdown",
   "metadata": {
    "flags": [
     "problems",
     "solutions"
    ]
   },
   "source": [
    "Suppose all the energy is deposited in a single strip (the strip the\n",
    "track passes through).  Find an expression for the position resolution\n",
    "of the detector as a function of $\\ell$. The position resolution is defined\n",
    "to be $\\sigma_x = \\sqrt{var[(x_{meas}-x_{true})]}$ where $x_{true}$ is the \n",
    "position where the track actually hit the detector.  Because we only\n",
    "know which strip is hit, in this example \n",
    "$x_{meas}$ is the center of the strip that is hit."
   ]
  },
  {
   "cell_type": "markdown",
   "metadata": {},
   "source": [
    "Write your answer here"
   ]
  },
  {
   "cell_type": "markdown",
   "metadata": {},
   "source": [
    "### 5b. "
   ]
  },
  {
   "cell_type": "markdown",
   "metadata": {
    "flags": [
     "problems",
     "solutions"
    ]
   },
   "source": [
    "Suppose that \n",
    "the charge deposited in our detector spreads out due\n",
    "to physical effects such as diffusion. It is possible for more than\n",
    "one strip to register a signal.  Assume in this part that our electronics\n",
    "is binary (i.e. registers a 1 if the deposited energy on the\n",
    "strip is above a specified threshold\n",
    "and 0 otherwise). Assume the threshold on the electronics is\n",
    "such that particles hitting within\n",
    "a  distance of $\\pm \\ell/3 $ of the center of the strip only register on\n",
    "a single strip while all particles hitting further from the strip\n",
    "center register on two strips.\n",
    "\n",
    "What is the position resolution now? (Here, if\n",
    "only one strip is hit, $x_{meas}$ is the center of the strip.  If\n",
    "two strips are hit, then $x_{meas}$ is the common edge of the two\n",
    "hit strips).  **Note:** this is *not* an unrealistic example.  The ATLAS silicon\n",
    "strip detector has such binary readout."
   ]
  },
  {
   "cell_type": "markdown",
   "metadata": {},
   "source": [
    "Write your answer here"
   ]
  },
  {
   "cell_type": "markdown",
   "metadata": {},
   "source": [
    "### 5c. "
   ]
  },
  {
   "cell_type": "markdown",
   "metadata": {
    "flags": [
     "problems",
     "solutions"
    ]
   },
   "source": [
    "So far, it has been possible to calculate the position resolution analytically. In cases where the detector response is more complicated, this may not be the case. Typically, physicists model detector performance using Monte Carlo simulations. In the remainder of this problem, you will write a simple simulation to determine the position resolution of a silicon detector.\n"
   ]
  },
  {
   "cell_type": "markdown",
   "metadata": {
    "flags": [
     "problems",
     "solutions"
    ]
   },
   "source": [
    "Let's begin by reproducing the analytic results obtained above.\n",
    "Consider a silicon strip detector that consisting of several strips of width $\\ell$.  \n",
    "Assume that the incident particles have a uniform distribution\n",
    "in $x$ with $-\\ell/2 < x < \\ell/2$ and all have $y=0$. (We'll just focus on this \"center strip\", so $x_{meas}$ can either be $-\\ell/2$, $0$, or $\\ell/2$ depending on where the particle hits.)\n",
    "Generate 10,000 such particles for\n",
    "the case described in part **2(a)** and for the case described\n",
    "in part **2(b)**.\n",
    "For each case, make a histogram of ($x_{meas}-x_{true}$) and \n",
    "verify that\n",
    "the resolution \n",
    "is consistent with that  obtained in problem **2**. \n",
    "\n",
    "You can use np.random.uniform() to sample from a uniform distribution with arbitrary bounds. We'd like 10,000 samples for this problem, so we set size = 10000. Note that we take $\\ell = 1$ for simplicity.\n"
   ]
  },
  {
   "cell_type": "code",
   "execution_count": 16,
   "metadata": {
    "flags": [
     "problems",
     "solutions"
    ]
   },
   "outputs": [],
   "source": [
    "import numpy as np\n",
    "samples = np.random.uniform(-0.5, 0.5, size=10000)"
   ]
  },
  {
   "cell_type": "markdown",
   "metadata": {
    "flags": [
     "problems",
     "solutions"
    ]
   },
   "source": [
    "For the case of **2(a)**, $x_{meas}=0$ (the center of the strip), so we can simply find the variance of these samples and take the square root to find the position resolution.  Note that this is really just a repetition of the first problem, but with our bounds shifted from (0,1) to (-0.5,0.5)."
   ]
  },
  {
   "cell_type": "code",
   "execution_count": 17,
   "metadata": {},
   "outputs": [],
   "source": [
    "#Write your answer here"
   ]
  },
  {
   "cell_type": "markdown",
   "metadata": {},
   "source": [
    "### 5d. "
   ]
  },
  {
   "cell_type": "markdown",
   "metadata": {
    "flags": [
     "problems",
     "solutions"
    ]
   },
   "source": [
    "For the case where two strips are sometimes hit, we need to consider the three different cases for $x_{meas}$."
   ]
  },
  {
   "cell_type": "code",
   "execution_count": 19,
   "metadata": {
    "flags": [
     "problems",
     "solutions"
    ]
   },
   "outputs": [],
   "source": [
    "#We'll call the quantity (x_meas - x_true) the \"error\" of the measurement\n",
    "errors = []\n",
    "\n",
    "#Go through each of our random samples and append (x_meas - x_true) to the error list\n",
    "for x_true in samples:\n",
    "    #particle hits the left third of strip\n",
    "    if x_true < -1/3:\n",
    "      x_meas = 0 # \"\"\"Your code here to replace 0\"\"\"\n",
    "    #particle hits the right third of strip\n",
    "    elif x_true > 1/3:\n",
    "       x_meas = 0 #\"\"\"Your code here to replace 0\"\"\"\n",
    "    else:\n",
    "       x_meas = 0 #\"\"\"Your code here to replace 0\"\"\"\n",
    "        \n",
    "    errors.append(x_meas - x_true)\n",
    "\n",
    "plot_histogram(errors,\"x value\",\"Number of Entries\",\"Measured-True Position\",[-0.5,0.5])"
   ]
  },
  {
   "cell_type": "code",
   "execution_count": 13,
   "metadata": {},
   "outputs": [],
   "source": [
    "#Write your answer here"
   ]
  },
  {
   "cell_type": "markdown",
   "metadata": {},
   "source": [
    "### 5e. "
   ]
  },
  {
   "cell_type": "markdown",
   "metadata": {},
   "source": [
    "let us replace our binary electronics with analog electronics (so that the magnitude of the charge deposited on the strip is recorded). We will model the transverse spreading of the charge from our incident track using a Gaussian distribution with width $\\sigma_M$: \n",
    "$$ f(x)dx = \\frac{1}{\\sigma_M\\sqrt{2\\pi}} \\exp(-(x-x_0)^2/2\\sigma_M^2)$$\n",
    "where $f(x)$ is the charge deposited between position $x$ and $x+dx$ and $x_0$ is the point where the track hits the detector. Assume that the total energy deposited by each track is 1 MIP (a MIP is the energy deposited by a single minimum ionizing particle), that our analog electronics has a threshold of 0.2~MIP (in other words, the electronics only reads out channels with at least 0.2 MIP of energy)  and that $\\sigma_M=\\ell$.  Also assume that the electronics has an intrinsic noise contribution $\\sigma_N=0.05$~MIP. (This means that the measurement of the charge on each strip is modified by adding a noise contribution that is distributed according to a Gaussian with mean 0 and variance $\\sigma_N$.)   You should assume the noise is uncorrelated between channels (so the amount of  noise on one channel is independent of the noise on its neighbors).\n",
    "\n",
    "Generate 10,000 particles and simulate the response of this silcon strip detector to these particles.\n",
    "\n",
    "From this simulation determine the position resolution of the silicon detector. How does your result compare to the binary solution?   In analyzing the simulated data, take  the measured position  of the particle to be:\n",
    "$$\n",
    "x_{meas} = \\sum_{i=strips} q_i x_i\n",
    "$$\n",
    "where the index $i$ is the strip number, $q_i$ is the measured charge on the strip (set to zero for strips with charge below threshold) and $x_i$ is the position of the center of strip $i$.  Also, limit your sum to the strip with the highest energy and at most 2 additional strips on either side.\n",
    "\n"
   ]
  },
  {
   "cell_type": "markdown",
   "metadata": {},
   "source": [
    "Write your answer here"
   ]
  },
  {
   "cell_type": "markdown",
   "metadata": {},
   "source": [
    "### 5f. "
   ]
  },
  {
   "cell_type": "markdown",
   "metadata": {},
   "source": [
    "Repeat the exercise for the case where the electronic noise and hence the   threshold can be reduced: $\\sigma_N=0.025$~MIP and threshold=0.1~MIP.  "
   ]
  },
  {
   "cell_type": "markdown",
   "metadata": {},
   "source": [
    "Write your answer here"
   ]
  }
 ],
 "metadata": {
  "kernelspec": {
   "display_name": "Python 3 (ipykernel)",
   "language": "python",
   "name": "python3"
  },
  "language_info": {
   "codemirror_mode": {
    "name": "ipython",
    "version": 3
   },
   "file_extension": ".py",
   "mimetype": "text/x-python",
   "name": "python",
   "nbconvert_exporter": "python",
   "pygments_lexer": "ipython3",
   "version": "3.9.13"
  }
 },
 "nbformat": 4,
 "nbformat_minor": 4
}
